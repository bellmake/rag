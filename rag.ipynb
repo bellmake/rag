{
 "cells": [
  {
   "cell_type": "markdown",
   "metadata": {},
   "source": [
    "# RAG on local device"
   ]
  },
  {
   "cell_type": "markdown",
   "metadata": {},
   "source": [
    "1. Document preprocessing and embedding creation\n",
    "2. Search and Answer"
   ]
  },
  {
   "cell_type": "markdown",
   "metadata": {},
   "source": [
    "### 1. Document/text processing and embedding creation"
   ]
  },
  {
   "cell_type": "code",
   "execution_count": 3,
   "metadata": {},
   "outputs": [
    {
     "name": "stdout",
     "output_type": "stream",
     "text": [
      "File human-nutrition-text.pdf exists.\n"
     ]
    }
   ],
   "source": [
    "import os\n",
    "import requests\n",
    "\n",
    "pdf_path = \"human-nutrition-text.pdf\"\n",
    "\n",
    "if not os.path.exists(pdf_path):\n",
    "    print(f\"[INFO] File doesn't exist, downloading...\")\n",
    "    \n",
    "    url = \"https://pressbooks.oer.hawaii.edu/humannutrition2/open/download?type=pdf\"\n",
    "    \n",
    "    filename = pdf_path\n",
    "    \n",
    "    response = requests.get(url)\n",
    "    \n",
    "    if response.status_code == 200:\n",
    "        with open(filename, \"wb\") as file:\n",
    "            file.write(response.content)\n",
    "        print(f\"[INFO] The file has been downloaded and saved as {filename}\")\n",
    "    else:\n",
    "        print(f\"[INFO] Failed to download the file. Status code: {response.status_code}\")\n",
    "        \n",
    "else:\n",
    "    print(f\"File {pdf_path} exists.\")"
   ]
  },
  {
   "cell_type": "code",
   "execution_count": 4,
   "metadata": {},
   "outputs": [
    {
     "data": {
      "application/vnd.jupyter.widget-view+json": {
       "model_id": "f6bd869f36594659969aa615de571031",
       "version_major": 2,
       "version_minor": 0
      },
      "text/plain": [
       "0it [00:00, ?it/s]"
      ]
     },
     "metadata": {},
     "output_type": "display_data"
    },
    {
     "data": {
      "text/plain": [
       "[{'page_number': -41,\n",
       "  'page_char_count': 29,\n",
       "  'page_word_count': 4,\n",
       "  'page_sentence_count_raw': 1,\n",
       "  'page_token_count': 7.25,\n",
       "  'text': 'Human Nutrition: 2020 Edition'},\n",
       " {'page_number': -40,\n",
       "  'page_char_count': 0,\n",
       "  'page_word_count': 1,\n",
       "  'page_sentence_count_raw': 1,\n",
       "  'page_token_count': 0.0,\n",
       "  'text': ''}]"
      ]
     },
     "execution_count": 4,
     "metadata": {},
     "output_type": "execute_result"
    }
   ],
   "source": [
    "import fitz\n",
    "\n",
    "from tqdm.auto import tqdm\n",
    "\n",
    "def text_formatter(text:str) -> str:\n",
    "    \"\"\"Performs minor formatting on text.\"\"\"\n",
    "    cleaned_text = text.replace(\"\\n\", \" \").strip()\n",
    "    \n",
    "    return cleaned_text\n",
    "\n",
    "def open_and_read_pdf(pdf_path: str) -> list[dict]:\n",
    "    doc = fitz.open(pdf_path)\n",
    "    pages_and_texts = []\n",
    "    for page_number, page in tqdm(enumerate(doc)):\n",
    "        text = page.get_text()\n",
    "        text = text_formatter(text=text)\n",
    "        pages_and_texts.append({\"page_number\":page_number-41,\n",
    "                                \"page_char_count\":len(text),\n",
    "                                \"page_word_count\":len(text.split(\" \")),\n",
    "                                \"page_sentence_count_raw\" : len(text.split(\". \")),\n",
    "                                \"page_token_count\":len(text) / 4,\n",
    "                                \"text\":text})\n",
    "        \n",
    "    return pages_and_texts\n",
    "\n",
    "pages_and_texts = open_and_read_pdf(pdf_path=pdf_path)\n",
    "pages_and_texts[:2]"
   ]
  },
  {
   "cell_type": "code",
   "execution_count": 5,
   "metadata": {},
   "outputs": [
    {
     "data": {
      "text/plain": [
       "[{'page_number': 1050,\n",
       "  'page_char_count': 1555,\n",
       "  'page_word_count': 273,\n",
       "  'page_sentence_count_raw': 12,\n",
       "  'page_token_count': 388.75,\n",
       "  'text': 'The DASH Diet  The Dietary Approaches to Stop Hypertension, or DASH diet,  focuses on reducing sodium intake to either 2,300 milligrams per  day (as recommended by the Dietary Guidelines for Americans) or  1,500 milligrams per day for certain populations. The DASH diet  is an evidence-based eating plan that can help reduce high blood  pressure. This plan may also decrease the risk of heart attack,  stroke, diabetes, osteoporosis, and certain cancers.3  DASH tips to lower sodium include:  • Using spices instead of salt to add flavor  • Reading sodium content on processed or canned food labels,  and choosing low-sodium options  • Removing some sodium from canned foods (such as beans) by  rinsing the product before consumption  • Avoiding salt when cooking  DASH dieters are recommended to consume a variety of whole  grains and high-fiber fruits and vegetables, and moderate amounts  of low-fat dairy products, lean meats, and heart-healthy fish. In  addition, DASH limits the use of saturated fats to less than 7 percent  of total calories, and limits the consumption of sweets and alcohol.  The DASH diet also calls for consuming less added sugar and  drinking fewer sugar-sweetened drinks. It replaces red meat with  fish and legumes and calls for increased calcium, magnesium,  potassium, and fiber. Also, even though some people on the DASH  diet may find it lowers their HDL (good) cholesterol along with their  3. DASH Diet Eating Plan. DASH Diet Oregon.   http://www.dashdietoregon.org/. Accessed April 12,  2018.  1050  |  Comparing Diets'},\n",
       " {'page_number': 538,\n",
       "  'page_char_count': 1444,\n",
       "  'page_word_count': 234,\n",
       "  'page_sentence_count_raw': 13,\n",
       "  'page_token_count': 361.0,\n",
       "  'text': 'Cardiovascular Disease  Vitamin E reduces the oxidation of LDLs, and it was therefore  hypothesized that vitamin E supplements would protect against  atherosclerosis. However, large clinical trials have not consistently  found evidence to support this hypothesis. In fact, in the “Women’s  Angiographic Vitamin and Estrogen Study,” postmenopausal women  who took 400 international units (264 milligrams) of vitamin E and  500 milligrams of vitamin C twice per day had higher death rates  from all causes.7  Other studies have not confirmed the association between  increased vitamin E intake from supplements and increased  mortality. There is more consistent evidence from observational  studies that a higher intake of vitamin E from foods is linked to a  decreased risk of dying from a heart attack.  Cancer  The large clinical trials that evaluated whether there was a link  between vitamin E and cardiovascular disease risk also looked at  cancer risk. These trials, called the HOPE-TOO Trial and Women’s  Health Study, did not find that vitamin E at doses of 400  7. Waters DD, et al. (2002). Effects of Hormone  Replacement Therapy and Antioxidant Vitamin  Supplements on Coronary Atherosclerosis in  Postmenopausal Women: A Randomized Controlled Trial.  The Journal of the American Medical Association, 288(19),  2432–40. https://jamanetwork.com/journals/jama/ fullarticle/195531. Accessed October 5, 2017.  538  |  Fat-Soluble Vitamins'},\n",
       " {'page_number': 850,\n",
       "  'page_char_count': 940,\n",
       "  'page_word_count': 148,\n",
       "  'page_sentence_count_raw': 8,\n",
       "  'page_token_count': 235.0,\n",
       "  'text': 'a few weeks, as the baby begins to mature and red blood cell levels  diminish, jaundice typically subsides with no lingering effects.28  Learning Activities  Technology Note: The second edition of the Human  Nutrition Open Educational Resource (OER) textbook  features interactive learning activities.  These activities are  available in the web-based textbook and not available in the  downloadable versions (EPUB, Digital PDF, Print_PDF, or  Open Document).  Learning activities may be used across various mobile  devices, however, for the best user experience it is strongly  recommended that users complete these activities using a  desktop or laptop computer and in Google Chrome.    An interactive or media element has been  excluded from this version of the text. You can  28. American Pregnancy Association. Breastfeeding and  jaundice. http://www.americanpregnancy.org/ firstyearoflife/breastfeedingandjaundice.htm  850  |  Infancy'}]"
      ]
     },
     "execution_count": 5,
     "metadata": {},
     "output_type": "execute_result"
    }
   ],
   "source": [
    "import random\n",
    "\n",
    "random.sample(pages_and_texts, k=3)"
   ]
  },
  {
   "cell_type": "code",
   "execution_count": 6,
   "metadata": {},
   "outputs": [
    {
     "data": {
      "text/html": [
       "<div>\n",
       "<style scoped>\n",
       "    .dataframe tbody tr th:only-of-type {\n",
       "        vertical-align: middle;\n",
       "    }\n",
       "\n",
       "    .dataframe tbody tr th {\n",
       "        vertical-align: top;\n",
       "    }\n",
       "\n",
       "    .dataframe thead th {\n",
       "        text-align: right;\n",
       "    }\n",
       "</style>\n",
       "<table border=\"1\" class=\"dataframe\">\n",
       "  <thead>\n",
       "    <tr style=\"text-align: right;\">\n",
       "      <th></th>\n",
       "      <th>page_number</th>\n",
       "      <th>page_char_count</th>\n",
       "      <th>page_word_count</th>\n",
       "      <th>page_sentence_count_raw</th>\n",
       "      <th>page_token_count</th>\n",
       "      <th>text</th>\n",
       "    </tr>\n",
       "  </thead>\n",
       "  <tbody>\n",
       "    <tr>\n",
       "      <th>0</th>\n",
       "      <td>-41</td>\n",
       "      <td>29</td>\n",
       "      <td>4</td>\n",
       "      <td>1</td>\n",
       "      <td>7.25</td>\n",
       "      <td>Human Nutrition: 2020 Edition</td>\n",
       "    </tr>\n",
       "    <tr>\n",
       "      <th>1</th>\n",
       "      <td>-40</td>\n",
       "      <td>0</td>\n",
       "      <td>1</td>\n",
       "      <td>1</td>\n",
       "      <td>0.00</td>\n",
       "      <td></td>\n",
       "    </tr>\n",
       "    <tr>\n",
       "      <th>2</th>\n",
       "      <td>-39</td>\n",
       "      <td>320</td>\n",
       "      <td>54</td>\n",
       "      <td>1</td>\n",
       "      <td>80.00</td>\n",
       "      <td>Human Nutrition: 2020  Edition  UNIVERSITY OF ...</td>\n",
       "    </tr>\n",
       "    <tr>\n",
       "      <th>3</th>\n",
       "      <td>-38</td>\n",
       "      <td>212</td>\n",
       "      <td>32</td>\n",
       "      <td>1</td>\n",
       "      <td>53.00</td>\n",
       "      <td>Human Nutrition: 2020 Edition by University of...</td>\n",
       "    </tr>\n",
       "    <tr>\n",
       "      <th>4</th>\n",
       "      <td>-37</td>\n",
       "      <td>797</td>\n",
       "      <td>147</td>\n",
       "      <td>3</td>\n",
       "      <td>199.25</td>\n",
       "      <td>Contents  Preface  University of Hawai‘i at Mā...</td>\n",
       "    </tr>\n",
       "  </tbody>\n",
       "</table>\n",
       "</div>"
      ],
      "text/plain": [
       "   page_number  page_char_count  page_word_count  page_sentence_count_raw  \\\n",
       "0          -41               29                4                        1   \n",
       "1          -40                0                1                        1   \n",
       "2          -39              320               54                        1   \n",
       "3          -38              212               32                        1   \n",
       "4          -37              797              147                        3   \n",
       "\n",
       "   page_token_count                                               text  \n",
       "0              7.25                      Human Nutrition: 2020 Edition  \n",
       "1              0.00                                                     \n",
       "2             80.00  Human Nutrition: 2020  Edition  UNIVERSITY OF ...  \n",
       "3             53.00  Human Nutrition: 2020 Edition by University of...  \n",
       "4            199.25  Contents  Preface  University of Hawai‘i at Mā...  "
      ]
     },
     "execution_count": 6,
     "metadata": {},
     "output_type": "execute_result"
    }
   ],
   "source": [
    "import pandas as pd\n",
    "\n",
    "df = pd.DataFrame(pages_and_texts)\n",
    "df.head()"
   ]
  },
  {
   "cell_type": "code",
   "execution_count": 7,
   "metadata": {},
   "outputs": [
    {
     "data": {
      "text/html": [
       "<div>\n",
       "<style scoped>\n",
       "    .dataframe tbody tr th:only-of-type {\n",
       "        vertical-align: middle;\n",
       "    }\n",
       "\n",
       "    .dataframe tbody tr th {\n",
       "        vertical-align: top;\n",
       "    }\n",
       "\n",
       "    .dataframe thead th {\n",
       "        text-align: right;\n",
       "    }\n",
       "</style>\n",
       "<table border=\"1\" class=\"dataframe\">\n",
       "  <thead>\n",
       "    <tr style=\"text-align: right;\">\n",
       "      <th></th>\n",
       "      <th>page_number</th>\n",
       "      <th>page_char_count</th>\n",
       "      <th>page_word_count</th>\n",
       "      <th>page_sentence_count_raw</th>\n",
       "      <th>page_token_count</th>\n",
       "    </tr>\n",
       "  </thead>\n",
       "  <tbody>\n",
       "    <tr>\n",
       "      <th>count</th>\n",
       "      <td>1208.00</td>\n",
       "      <td>1208.00</td>\n",
       "      <td>1208.00</td>\n",
       "      <td>1208.00</td>\n",
       "      <td>1208.00</td>\n",
       "    </tr>\n",
       "    <tr>\n",
       "      <th>mean</th>\n",
       "      <td>562.50</td>\n",
       "      <td>1148.00</td>\n",
       "      <td>199.50</td>\n",
       "      <td>10.52</td>\n",
       "      <td>287.00</td>\n",
       "    </tr>\n",
       "    <tr>\n",
       "      <th>std</th>\n",
       "      <td>348.86</td>\n",
       "      <td>560.38</td>\n",
       "      <td>95.83</td>\n",
       "      <td>6.55</td>\n",
       "      <td>140.10</td>\n",
       "    </tr>\n",
       "    <tr>\n",
       "      <th>min</th>\n",
       "      <td>-41.00</td>\n",
       "      <td>0.00</td>\n",
       "      <td>1.00</td>\n",
       "      <td>1.00</td>\n",
       "      <td>0.00</td>\n",
       "    </tr>\n",
       "    <tr>\n",
       "      <th>25%</th>\n",
       "      <td>260.75</td>\n",
       "      <td>762.00</td>\n",
       "      <td>134.00</td>\n",
       "      <td>5.00</td>\n",
       "      <td>190.50</td>\n",
       "    </tr>\n",
       "    <tr>\n",
       "      <th>50%</th>\n",
       "      <td>562.50</td>\n",
       "      <td>1231.50</td>\n",
       "      <td>216.00</td>\n",
       "      <td>10.00</td>\n",
       "      <td>307.88</td>\n",
       "    </tr>\n",
       "    <tr>\n",
       "      <th>75%</th>\n",
       "      <td>864.25</td>\n",
       "      <td>1603.50</td>\n",
       "      <td>272.00</td>\n",
       "      <td>15.00</td>\n",
       "      <td>400.88</td>\n",
       "    </tr>\n",
       "    <tr>\n",
       "      <th>max</th>\n",
       "      <td>1166.00</td>\n",
       "      <td>2308.00</td>\n",
       "      <td>430.00</td>\n",
       "      <td>39.00</td>\n",
       "      <td>577.00</td>\n",
       "    </tr>\n",
       "  </tbody>\n",
       "</table>\n",
       "</div>"
      ],
      "text/plain": [
       "       page_number  page_char_count  page_word_count  page_sentence_count_raw  \\\n",
       "count      1208.00          1208.00          1208.00                  1208.00   \n",
       "mean        562.50          1148.00           199.50                    10.52   \n",
       "std         348.86           560.38            95.83                     6.55   \n",
       "min         -41.00             0.00             1.00                     1.00   \n",
       "25%         260.75           762.00           134.00                     5.00   \n",
       "50%         562.50          1231.50           216.00                    10.00   \n",
       "75%         864.25          1603.50           272.00                    15.00   \n",
       "max        1166.00          2308.00           430.00                    39.00   \n",
       "\n",
       "       page_token_count  \n",
       "count           1208.00  \n",
       "mean             287.00  \n",
       "std              140.10  \n",
       "min                0.00  \n",
       "25%              190.50  \n",
       "50%              307.88  \n",
       "75%              400.88  \n",
       "max              577.00  "
      ]
     },
     "execution_count": 7,
     "metadata": {},
     "output_type": "execute_result"
    }
   ],
   "source": [
    "df.describe().round(decimals=2)"
   ]
  },
  {
   "cell_type": "markdown",
   "metadata": {},
   "source": [
    "#### Further text processing (splitting pages into sentences)"
   ]
  },
  {
   "cell_type": "code",
   "execution_count": 9,
   "metadata": {},
   "outputs": [
    {
     "data": {
      "text/plain": [
       "[This is a sentence., This is another one., This is the last.]"
      ]
     },
     "execution_count": 9,
     "metadata": {},
     "output_type": "execute_result"
    }
   ],
   "source": [
    "from spacy.lang.en import English\n",
    "\n",
    "nlp = English()\n",
    "\n",
    "# Add Sentencizer pipeline\n",
    "nlp.add_pipe(\"sentencizer\")\n",
    "\n",
    "# Document instance example\n",
    "doc = nlp(\"This is a sentence. This is another one. This is the last.\")\n",
    "assert len(list(doc.sents)) == 3\n",
    "\n",
    "# Sentences split\n",
    "list(doc.sents)"
   ]
  },
  {
   "cell_type": "code",
   "execution_count": 15,
   "metadata": {},
   "outputs": [
    {
     "data": {
      "text/plain": [
       "{'page_number': 559,\n",
       " 'page_char_count': 863,\n",
       " 'page_word_count': 138,\n",
       " 'page_sentence_count_raw': 9,\n",
       " 'page_token_count': 215.75,\n",
       " 'text': 'Image by  Allison  Calabrese /  CC BY 4.0  Korsakoff syndrome can cause similar symptoms as beriberi such  as confusion, loss of coordination, vision changes, hallucinations,  and may progress to coma and death. This condition is specific  to alcoholics as diets high in alcohol can cause thiamin deficiency.  Other individuals at risk include individuals who also consume diets  typically low in micronutrients such as those with eating disorders,  elderly, and individuals who have gone through gastric bypass  surgery.5  Figure 9.10 The Role of Thiamin  Figure 9.11 Beriberi, Thiamin Deficiency  5. Fact Sheets for Health Professionals: Thiamin. National  Institute of Health, Office of Dietary Supplements.   https://ods.od.nih.gov/factsheets/Thiamin- HealthProfessional/. Updated Feburary 11, 2016.  Accessed October 22, 2017.  Water-Soluble Vitamins  |  559',\n",
       " 'sentences': ['Image by  Allison  Calabrese /  CC BY 4.0  Korsakoff syndrome can cause similar symptoms as beriberi such  as confusion, loss of coordination, vision changes, hallucinations,  and may progress to coma and death.',\n",
       "  'This condition is specific  to alcoholics as diets high in alcohol can cause thiamin deficiency.',\n",
       "  ' Other individuals at risk include individuals who also consume diets  typically low in micronutrients such as those with eating disorders,  elderly, and individuals who have gone through gastric bypass  surgery.5  Figure 9.10 The Role of Thiamin  Figure 9.11 Beriberi, Thiamin Deficiency  5.',\n",
       "  'Fact Sheets for Health Professionals: Thiamin.',\n",
       "  'National  Institute of Health, Office of Dietary Supplements.',\n",
       "  '  https://ods.od.nih.gov/factsheets/Thiamin- HealthProfessional/. Updated Feburary 11, 2016.',\n",
       "  ' Accessed October 22, 2017.',\n",
       "  ' Water-Soluble Vitamins  |  559'],\n",
       " 'page_sentence_count_spacy': 8}"
      ]
     },
     "execution_count": 15,
     "metadata": {},
     "output_type": "execute_result"
    }
   ],
   "source": [
    "pages_and_texts[600]"
   ]
  },
  {
   "cell_type": "code",
   "execution_count": 16,
   "metadata": {},
   "outputs": [
    {
     "data": {
      "application/vnd.jupyter.widget-view+json": {
       "model_id": "f4d2e4ac10374d5aa22dec10ac7c5fae",
       "version_major": 2,
       "version_minor": 0
      },
      "text/plain": [
       "  0%|          | 0/1208 [00:00<?, ?it/s]"
      ]
     },
     "metadata": {},
     "output_type": "display_data"
    }
   ],
   "source": [
    "for item in tqdm(pages_and_texts):\n",
    "    item[\"sentences\"] = list(nlp(item[\"text\"]).sents)\n",
    "    \n",
    "    # spaCy datatype to str\n",
    "    item[\"sentences\"] = [str(sentence) for sentence in item[\"sentences\"]]\n",
    "    \n",
    "    # Count sentences\n",
    "    item[\"page_sentence_count_spacy\"] = len(item[\"sentences\"])"
   ]
  },
  {
   "cell_type": "code",
   "execution_count": 19,
   "metadata": {},
   "outputs": [
    {
     "data": {
      "text/plain": [
       "[{'page_number': 562,\n",
       "  'page_char_count': 1339,\n",
       "  'page_word_count': 268,\n",
       "  'page_sentence_count_raw': 17,\n",
       "  'page_token_count': 334.75,\n",
       "  'text': 'Food  Serving Thiamin  (mg)  Percent Daily  Value  Breakfast cereals, fortified  1  serving  1.5  100  White rice, enriched  ½ c.  1.4  73  Pork chop, broiled  3 oz.  0.4  27  Black beans, boiled  ½ c.  0.4  27  Tuna, cooked  3 oz.  0.2  13  Brown rice, cooked, not  enriched  ½ c.  0.1  7  Whole wheat bread  1 slice  0.1  7  2% Milk  8 oz.  0.1  7  Cheddar cheese  1 ½ oz  0  0  Apple, sliced  1 c.  0  0  Health Professional Fact Sheet: Thiamin. National Institutes of  Health, Office of Dietary Supplements.https://ods.od.nih.gov/ factsheets/Thiamin-HealthProfessional/ . Updated February 11,  2016 . Accessed October 5, 2017.  Riboflavin (B2)  Riboflavin is an essential component of flavoproteins, which are  coenzymes involved in many metabolic pathways of carbohydrate,  lipid, and protein metabolism. Flavoproteins aid in the transfer of  electrons in the electron transport chain. Furthermore, the  functions of other B-vitamin coenzymes, such as vitamin B6 and  folate, are dependent on the actions of flavoproteins. The “flavin”  portion of riboflavin gives a bright yellow color to riboflavin, an  attribute that helped lead to its discovery as a vitamin. When  riboflavin is taken in excess amounts (supplement form) the excess  will be excreted through your kidneys and show up in your urine.  562  |  Water-Soluble Vitamins',\n",
       "  'sentences': ['Food  Serving Thiamin  (mg)  Percent Daily  Value  Breakfast cereals, fortified  1  serving  1.5  100  White rice, enriched  ½ c.  1.4  73  Pork chop, broiled  3 oz.',\n",
       "   ' 0.4  27  Black beans, boiled  ½ c.  0.4  27  Tuna, cooked  3 oz.',\n",
       "   ' 0.2  13  Brown rice, cooked, not  enriched  ½ c.  0.1  7  Whole wheat bread  1 slice  0.1  7  2% Milk  8 oz.',\n",
       "   ' 0.1  7  Cheddar cheese  1 ½ oz  0  0  Apple, sliced  1 c.  0  0  Health Professional Fact Sheet: Thiamin.',\n",
       "   'National Institutes of  Health, Office of Dietary Supplements.https://ods.od.nih.gov/ factsheets/Thiamin-HealthProfessional/ .',\n",
       "   'Updated February 11,  2016 .',\n",
       "   'Accessed October 5, 2017.',\n",
       "   ' Riboflavin (B2)  Riboflavin is an essential component of flavoproteins, which are  coenzymes involved in many metabolic pathways of carbohydrate,  lipid, and protein metabolism.',\n",
       "   'Flavoproteins aid in the transfer of  electrons in the electron transport chain.',\n",
       "   'Furthermore, the  functions of other B-vitamin coenzymes, such as vitamin B6 and  folate, are dependent on the actions of flavoproteins.',\n",
       "   'The “flavin”  portion of riboflavin gives a bright yellow color to riboflavin, an  attribute that helped lead to its discovery as a vitamin.',\n",
       "   'When  riboflavin is taken in excess amounts (supplement form) the excess  will be excreted through your kidneys and show up in your urine.',\n",
       "   ' 562  |  Water-Soluble Vitamins'],\n",
       "  'page_sentence_count_spacy': 13}]"
      ]
     },
     "execution_count": 19,
     "metadata": {},
     "output_type": "execute_result"
    }
   ],
   "source": [
    "random.sample(pages_and_texts, k=1)"
   ]
  },
  {
   "cell_type": "code",
   "execution_count": 20,
   "metadata": {},
   "outputs": [
    {
     "data": {
      "text/html": [
       "<div>\n",
       "<style scoped>\n",
       "    .dataframe tbody tr th:only-of-type {\n",
       "        vertical-align: middle;\n",
       "    }\n",
       "\n",
       "    .dataframe tbody tr th {\n",
       "        vertical-align: top;\n",
       "    }\n",
       "\n",
       "    .dataframe thead th {\n",
       "        text-align: right;\n",
       "    }\n",
       "</style>\n",
       "<table border=\"1\" class=\"dataframe\">\n",
       "  <thead>\n",
       "    <tr style=\"text-align: right;\">\n",
       "      <th></th>\n",
       "      <th>page_number</th>\n",
       "      <th>page_char_count</th>\n",
       "      <th>page_word_count</th>\n",
       "      <th>page_sentence_count_raw</th>\n",
       "      <th>page_token_count</th>\n",
       "      <th>page_sentence_count_spacy</th>\n",
       "    </tr>\n",
       "  </thead>\n",
       "  <tbody>\n",
       "    <tr>\n",
       "      <th>count</th>\n",
       "      <td>1208.00</td>\n",
       "      <td>1208.00</td>\n",
       "      <td>1208.00</td>\n",
       "      <td>1208.00</td>\n",
       "      <td>1208.00</td>\n",
       "      <td>1208.00</td>\n",
       "    </tr>\n",
       "    <tr>\n",
       "      <th>mean</th>\n",
       "      <td>562.50</td>\n",
       "      <td>1148.00</td>\n",
       "      <td>199.50</td>\n",
       "      <td>10.52</td>\n",
       "      <td>287.00</td>\n",
       "      <td>10.32</td>\n",
       "    </tr>\n",
       "    <tr>\n",
       "      <th>std</th>\n",
       "      <td>348.86</td>\n",
       "      <td>560.38</td>\n",
       "      <td>95.83</td>\n",
       "      <td>6.55</td>\n",
       "      <td>140.10</td>\n",
       "      <td>6.30</td>\n",
       "    </tr>\n",
       "    <tr>\n",
       "      <th>min</th>\n",
       "      <td>-41.00</td>\n",
       "      <td>0.00</td>\n",
       "      <td>1.00</td>\n",
       "      <td>1.00</td>\n",
       "      <td>0.00</td>\n",
       "      <td>0.00</td>\n",
       "    </tr>\n",
       "    <tr>\n",
       "      <th>25%</th>\n",
       "      <td>260.75</td>\n",
       "      <td>762.00</td>\n",
       "      <td>134.00</td>\n",
       "      <td>5.00</td>\n",
       "      <td>190.50</td>\n",
       "      <td>5.00</td>\n",
       "    </tr>\n",
       "    <tr>\n",
       "      <th>50%</th>\n",
       "      <td>562.50</td>\n",
       "      <td>1231.50</td>\n",
       "      <td>216.00</td>\n",
       "      <td>10.00</td>\n",
       "      <td>307.88</td>\n",
       "      <td>10.00</td>\n",
       "    </tr>\n",
       "    <tr>\n",
       "      <th>75%</th>\n",
       "      <td>864.25</td>\n",
       "      <td>1603.50</td>\n",
       "      <td>272.00</td>\n",
       "      <td>15.00</td>\n",
       "      <td>400.88</td>\n",
       "      <td>15.00</td>\n",
       "    </tr>\n",
       "    <tr>\n",
       "      <th>max</th>\n",
       "      <td>1166.00</td>\n",
       "      <td>2308.00</td>\n",
       "      <td>430.00</td>\n",
       "      <td>39.00</td>\n",
       "      <td>577.00</td>\n",
       "      <td>28.00</td>\n",
       "    </tr>\n",
       "  </tbody>\n",
       "</table>\n",
       "</div>"
      ],
      "text/plain": [
       "       page_number  page_char_count  page_word_count  page_sentence_count_raw  \\\n",
       "count      1208.00          1208.00          1208.00                  1208.00   \n",
       "mean        562.50          1148.00           199.50                    10.52   \n",
       "std         348.86           560.38            95.83                     6.55   \n",
       "min         -41.00             0.00             1.00                     1.00   \n",
       "25%         260.75           762.00           134.00                     5.00   \n",
       "50%         562.50          1231.50           216.00                    10.00   \n",
       "75%         864.25          1603.50           272.00                    15.00   \n",
       "max        1166.00          2308.00           430.00                    39.00   \n",
       "\n",
       "       page_token_count  page_sentence_count_spacy  \n",
       "count           1208.00                    1208.00  \n",
       "mean             287.00                      10.32  \n",
       "std              140.10                       6.30  \n",
       "min                0.00                       0.00  \n",
       "25%              190.50                       5.00  \n",
       "50%              307.88                      10.00  \n",
       "75%              400.88                      15.00  \n",
       "max              577.00                      28.00  "
      ]
     },
     "execution_count": 20,
     "metadata": {},
     "output_type": "execute_result"
    }
   ],
   "source": [
    "df = pd.DataFrame(pages_and_texts)\n",
    "df.describe().round(2)"
   ]
  },
  {
   "cell_type": "code",
   "execution_count": 21,
   "metadata": {},
   "outputs": [
    {
     "data": {
      "text/plain": [
       "[[0, 1, 2, 3, 4, 5, 6, 7, 8, 9],\n",
       " [10, 11, 12, 13, 14, 15, 16, 17, 18, 19],\n",
       " [20, 21, 22, 23, 24]]"
      ]
     },
     "execution_count": 21,
     "metadata": {},
     "output_type": "execute_result"
    }
   ],
   "source": [
    "# Chunking sentences into smaller groups\n",
    "\n",
    "num_sentence_chunk_size = 10\n",
    "\n",
    "# split lists of texts recursively into chunk size\n",
    "def split_list(input_list: list[str],\n",
    "               slice_size: int=num_sentence_chunk_size) -> list[list[str]]:\n",
    "    return [input_list[i:i+slice_size] for i in range(0, len(input_list), slice_size)]\n",
    "\n",
    "test_list = list(range(25))\n",
    "split_list(test_list)\n"
   ]
  },
  {
   "cell_type": "code",
   "execution_count": 22,
   "metadata": {},
   "outputs": [
    {
     "data": {
      "application/vnd.jupyter.widget-view+json": {
       "model_id": "e49e5c7bc3d9498ba861cad8f60086c5",
       "version_major": 2,
       "version_minor": 0
      },
      "text/plain": [
       "  0%|          | 0/1208 [00:00<?, ?it/s]"
      ]
     },
     "metadata": {},
     "output_type": "display_data"
    }
   ],
   "source": [
    "for item in tqdm(pages_and_texts):\n",
    "    item[\"sentence_chunks\"] = split_list(input_list=item[\"sentences\"],\n",
    "                                         slice_size=num_sentence_chunk_size)\n",
    "    \n",
    "    item[\"num_chunks\"] = len(item[\"sentence_chunks\"])\n",
    "    \n",
    "    "
   ]
  },
  {
   "cell_type": "code",
   "execution_count": 24,
   "metadata": {},
   "outputs": [
    {
     "data": {
      "text/plain": [
       "[{'page_number': 5,\n",
       "  'page_char_count': 1742,\n",
       "  'page_word_count': 295,\n",
       "  'page_sentence_count_raw': 17,\n",
       "  'page_token_count': 435.5,\n",
       "  'text': 'Macronutrients  Nutrients  that  are  needed  in  large  amounts  are  called  macronutrients. There are three classes of macronutrients:  carbohydrates, lipids, and proteins. These can be metabolically  processed into cellular energy. The energy from macronutrients  comes from their chemical bonds. This chemical energy is  converted into cellular energy that is then utilized to perform work,  allowing our bodies to conduct their basic functions. A unit of  measurement of food energy is the calorie. On nutrition food labels  the amount given for “calories” is actually equivalent to each calorie  multiplied by one thousand. A kilocalorie (one thousand calories,  denoted with a small “c”) is synonymous with the “Calorie” (with a  capital “C”) on nutrition food labels. Water is also a macronutrient in  the sense that you require a large amount of it, but unlike the other  macronutrients, it does not yield calories.  Carbohydrates  Carbohydrates are molecules composed of carbon, hydrogen, and  oxygen. The major food sources of carbohydrates are grains, milk,  fruits, and starchy vegetables, like potatoes. Non-starchy vegetables  also contain carbohydrates, but in lesser quantities. Carbohydrates  are broadly classified into two forms based on their chemical  structure: simple carbohydrates, often called simple sugars; and  complex carbohydrates.  Simple carbohydrates consist of one or two basic units. Examples  of simple sugars include sucrose, the type of sugar you would have  in a bowl on the breakfast table, and glucose, the type of sugar that  circulates in your blood.  Complex carbohydrates are long chains of simple sugars that can  be unbranched or branched. During digestion, the body breaks  Introduction  |  5',\n",
       "  'sentences': ['Macronutrients  Nutrients  that  are  needed  in  large  amounts  are  called  macronutrients.',\n",
       "   'There are three classes of macronutrients:  carbohydrates, lipids, and proteins.',\n",
       "   'These can be metabolically  processed into cellular energy.',\n",
       "   'The energy from macronutrients  comes from their chemical bonds.',\n",
       "   'This chemical energy is  converted into cellular energy that is then utilized to perform work,  allowing our bodies to conduct their basic functions.',\n",
       "   'A unit of  measurement of food energy is the calorie.',\n",
       "   'On nutrition food labels  the amount given for “calories” is actually equivalent to each calorie  multiplied by one thousand.',\n",
       "   'A kilocalorie (one thousand calories,  denoted with a small “c”) is synonymous with the “Calorie” (with a  capital “C”) on nutrition food labels.',\n",
       "   'Water is also a macronutrient in  the sense that you require a large amount of it, but unlike the other  macronutrients, it does not yield calories.',\n",
       "   ' Carbohydrates  Carbohydrates are molecules composed of carbon, hydrogen, and  oxygen.',\n",
       "   'The major food sources of carbohydrates are grains, milk,  fruits, and starchy vegetables, like potatoes.',\n",
       "   'Non-starchy vegetables  also contain carbohydrates, but in lesser quantities.',\n",
       "   'Carbohydrates  are broadly classified into two forms based on their chemical  structure: simple carbohydrates, often called simple sugars; and  complex carbohydrates.',\n",
       "   ' Simple carbohydrates consist of one or two basic units.',\n",
       "   'Examples  of simple sugars include sucrose, the type of sugar you would have  in a bowl on the breakfast table, and glucose, the type of sugar that  circulates in your blood.',\n",
       "   ' Complex carbohydrates are long chains of simple sugars that can  be unbranched or branched.',\n",
       "   'During digestion, the body breaks  Introduction  |  5'],\n",
       "  'page_sentence_count_spacy': 17,\n",
       "  'sentence_chunks': [['Macronutrients  Nutrients  that  are  needed  in  large  amounts  are  called  macronutrients.',\n",
       "    'There are three classes of macronutrients:  carbohydrates, lipids, and proteins.',\n",
       "    'These can be metabolically  processed into cellular energy.',\n",
       "    'The energy from macronutrients  comes from their chemical bonds.',\n",
       "    'This chemical energy is  converted into cellular energy that is then utilized to perform work,  allowing our bodies to conduct their basic functions.',\n",
       "    'A unit of  measurement of food energy is the calorie.',\n",
       "    'On nutrition food labels  the amount given for “calories” is actually equivalent to each calorie  multiplied by one thousand.',\n",
       "    'A kilocalorie (one thousand calories,  denoted with a small “c”) is synonymous with the “Calorie” (with a  capital “C”) on nutrition food labels.',\n",
       "    'Water is also a macronutrient in  the sense that you require a large amount of it, but unlike the other  macronutrients, it does not yield calories.',\n",
       "    ' Carbohydrates  Carbohydrates are molecules composed of carbon, hydrogen, and  oxygen.'],\n",
       "   ['The major food sources of carbohydrates are grains, milk,  fruits, and starchy vegetables, like potatoes.',\n",
       "    'Non-starchy vegetables  also contain carbohydrates, but in lesser quantities.',\n",
       "    'Carbohydrates  are broadly classified into two forms based on their chemical  structure: simple carbohydrates, often called simple sugars; and  complex carbohydrates.',\n",
       "    ' Simple carbohydrates consist of one or two basic units.',\n",
       "    'Examples  of simple sugars include sucrose, the type of sugar you would have  in a bowl on the breakfast table, and glucose, the type of sugar that  circulates in your blood.',\n",
       "    ' Complex carbohydrates are long chains of simple sugars that can  be unbranched or branched.',\n",
       "    'During digestion, the body breaks  Introduction  |  5']],\n",
       "  'num_chunks': 2}]"
      ]
     },
     "execution_count": 24,
     "metadata": {},
     "output_type": "execute_result"
    }
   ],
   "source": [
    "random.sample(pages_and_texts, k=1)"
   ]
  },
  {
   "cell_type": "code",
   "execution_count": 25,
   "metadata": {},
   "outputs": [
    {
     "data": {
      "text/html": [
       "<div>\n",
       "<style scoped>\n",
       "    .dataframe tbody tr th:only-of-type {\n",
       "        vertical-align: middle;\n",
       "    }\n",
       "\n",
       "    .dataframe tbody tr th {\n",
       "        vertical-align: top;\n",
       "    }\n",
       "\n",
       "    .dataframe thead th {\n",
       "        text-align: right;\n",
       "    }\n",
       "</style>\n",
       "<table border=\"1\" class=\"dataframe\">\n",
       "  <thead>\n",
       "    <tr style=\"text-align: right;\">\n",
       "      <th></th>\n",
       "      <th>page_number</th>\n",
       "      <th>page_char_count</th>\n",
       "      <th>page_word_count</th>\n",
       "      <th>page_sentence_count_raw</th>\n",
       "      <th>page_token_count</th>\n",
       "      <th>page_sentence_count_spacy</th>\n",
       "      <th>num_chunks</th>\n",
       "    </tr>\n",
       "  </thead>\n",
       "  <tbody>\n",
       "    <tr>\n",
       "      <th>count</th>\n",
       "      <td>1208.00</td>\n",
       "      <td>1208.00</td>\n",
       "      <td>1208.00</td>\n",
       "      <td>1208.00</td>\n",
       "      <td>1208.00</td>\n",
       "      <td>1208.00</td>\n",
       "      <td>1208.00</td>\n",
       "    </tr>\n",
       "    <tr>\n",
       "      <th>mean</th>\n",
       "      <td>562.50</td>\n",
       "      <td>1148.00</td>\n",
       "      <td>199.50</td>\n",
       "      <td>10.52</td>\n",
       "      <td>287.00</td>\n",
       "      <td>10.32</td>\n",
       "      <td>1.53</td>\n",
       "    </tr>\n",
       "    <tr>\n",
       "      <th>std</th>\n",
       "      <td>348.86</td>\n",
       "      <td>560.38</td>\n",
       "      <td>95.83</td>\n",
       "      <td>6.55</td>\n",
       "      <td>140.10</td>\n",
       "      <td>6.30</td>\n",
       "      <td>0.64</td>\n",
       "    </tr>\n",
       "    <tr>\n",
       "      <th>min</th>\n",
       "      <td>-41.00</td>\n",
       "      <td>0.00</td>\n",
       "      <td>1.00</td>\n",
       "      <td>1.00</td>\n",
       "      <td>0.00</td>\n",
       "      <td>0.00</td>\n",
       "      <td>0.00</td>\n",
       "    </tr>\n",
       "    <tr>\n",
       "      <th>25%</th>\n",
       "      <td>260.75</td>\n",
       "      <td>762.00</td>\n",
       "      <td>134.00</td>\n",
       "      <td>5.00</td>\n",
       "      <td>190.50</td>\n",
       "      <td>5.00</td>\n",
       "      <td>1.00</td>\n",
       "    </tr>\n",
       "    <tr>\n",
       "      <th>50%</th>\n",
       "      <td>562.50</td>\n",
       "      <td>1231.50</td>\n",
       "      <td>216.00</td>\n",
       "      <td>10.00</td>\n",
       "      <td>307.88</td>\n",
       "      <td>10.00</td>\n",
       "      <td>1.00</td>\n",
       "    </tr>\n",
       "    <tr>\n",
       "      <th>75%</th>\n",
       "      <td>864.25</td>\n",
       "      <td>1603.50</td>\n",
       "      <td>272.00</td>\n",
       "      <td>15.00</td>\n",
       "      <td>400.88</td>\n",
       "      <td>15.00</td>\n",
       "      <td>2.00</td>\n",
       "    </tr>\n",
       "    <tr>\n",
       "      <th>max</th>\n",
       "      <td>1166.00</td>\n",
       "      <td>2308.00</td>\n",
       "      <td>430.00</td>\n",
       "      <td>39.00</td>\n",
       "      <td>577.00</td>\n",
       "      <td>28.00</td>\n",
       "      <td>3.00</td>\n",
       "    </tr>\n",
       "  </tbody>\n",
       "</table>\n",
       "</div>"
      ],
      "text/plain": [
       "       page_number  page_char_count  page_word_count  page_sentence_count_raw  \\\n",
       "count      1208.00          1208.00          1208.00                  1208.00   \n",
       "mean        562.50          1148.00           199.50                    10.52   \n",
       "std         348.86           560.38            95.83                     6.55   \n",
       "min         -41.00             0.00             1.00                     1.00   \n",
       "25%         260.75           762.00           134.00                     5.00   \n",
       "50%         562.50          1231.50           216.00                    10.00   \n",
       "75%         864.25          1603.50           272.00                    15.00   \n",
       "max        1166.00          2308.00           430.00                    39.00   \n",
       "\n",
       "       page_token_count  page_sentence_count_spacy  num_chunks  \n",
       "count           1208.00                    1208.00     1208.00  \n",
       "mean             287.00                      10.32        1.53  \n",
       "std              140.10                       6.30        0.64  \n",
       "min                0.00                       0.00        0.00  \n",
       "25%              190.50                       5.00        1.00  \n",
       "50%              307.88                      10.00        1.00  \n",
       "75%              400.88                      15.00        2.00  \n",
       "max              577.00                      28.00        3.00  "
      ]
     },
     "execution_count": 25,
     "metadata": {},
     "output_type": "execute_result"
    }
   ],
   "source": [
    "df = pd.DataFrame(pages_and_texts)\n",
    "df.describe().round(2)"
   ]
  },
  {
   "cell_type": "code",
   "execution_count": null,
   "metadata": {},
   "outputs": [],
   "source": []
  }
 ],
 "metadata": {
  "kernelspec": {
   "display_name": "rag",
   "language": "python",
   "name": "python3"
  },
  "language_info": {
   "codemirror_mode": {
    "name": "ipython",
    "version": 3
   },
   "file_extension": ".py",
   "mimetype": "text/x-python",
   "name": "python",
   "nbconvert_exporter": "python",
   "pygments_lexer": "ipython3",
   "version": "3.11.8"
  }
 },
 "nbformat": 4,
 "nbformat_minor": 2
}
